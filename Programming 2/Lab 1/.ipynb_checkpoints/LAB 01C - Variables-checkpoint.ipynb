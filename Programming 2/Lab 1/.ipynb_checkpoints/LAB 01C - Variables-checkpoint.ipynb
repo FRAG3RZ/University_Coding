{
 "cells": [
  {
   "cell_type": "code",
   "execution_count": null,
   "metadata": {},
   "outputs": [],
   "source": [
    "# In Python it is standard practice to import the modules we need at the very top of our scripts\n",
    "import numpy as np"
   ]
  },
  {
   "cell_type": "markdown",
   "metadata": {},
   "source": [
    "# Assigning and Using Variables\n",
    "\n",
    "Programming languages use variables (names) to refer to objects, such as numbers, that you will use over again. In Python, variables are assigned with the `=` symbol, e.g. `a = 3`.\n",
    "\n",
    "Variables can hold almost anything, but we will usually use them to store a number (or an array of multiple numbers). Python and Numpy both have their own data types, some of which we will cover in this course.\n",
    "Once defined, the variable `a` can be used over and over again (see the cell below).\n",
    "Variables can be used to store information but you can also do calculations with variables, e.g. `c = a+b`, just like you would with numbers.\n",
    "\n",
    "## Printing Variables\n",
    "\n",
    "We may want to check on the value stored in a variable. We can do this using the `print()` function. It is also possible to print out some text (text is referred to in programming as a \"string\"). You can write a string by surrounding your text with quotation marks. Run the cell below to see all this in action.\n",
    "\n",
    "## Comments\n",
    "You will have noticed that the example code often contains *comments* (which start with the `#` character). You can write any text you want after the `#` character and that text will not be treated like a program to be run. It is just an informative comment for the benefit of you and anybody else reading your code. Good code contains comments that explain what the surrounding code is doing (e.g. 'calculate the length of the hypotenuse', and (for more complex code) the higher-level *purpose* of a whole larger chunk of code (e.g. 'Integrate over a circle using Simpson's rule')"
   ]
  },
  {
   "cell_type": "code",
   "execution_count": null,
   "metadata": {},
   "outputs": [],
   "source": [
    "# Create two new variables 'a' and 'b' and assign them integer values\n",
    "a = 2\n",
    "b = 3\n",
    "\n",
    "# Print 'a' and 'b'\n",
    "print(a, b)\n",
    "\n",
    "# Update 'a' and print out 'a' and 'b' again. Note that the value printed for 'a' has changed\n",
    "a = 4\n",
    "print(a, b)\n",
    "\n",
    "# Better: print out a string of text in order to make it clearer what the numbers actually mean\n",
    "print('The value of a is', a)\n",
    "print('The value of b is', b)"
   ]
  },
  {
   "cell_type": "markdown",
   "metadata": {},
   "source": [
    "Now edit the cell below, to write some code that assigns the product of `a` and `b` to a new variable `c`, and then print `a`, `b` and `c`."
   ]
  },
  {
   "cell_type": "code",
   "execution_count": null,
   "metadata": {},
   "outputs": [],
   "source": [
    "# Write your Python here"
   ]
  },
  {
   "cell_type": "markdown",
   "metadata": {},
   "source": [
    "## Formatted Printing\n",
    "\n",
    "We can mix text and numbers in a much more sophisticated way, which is helpful for generating readable output from your code. This is done by using the `.format()` method on a string of text. We will not discuss all the details this piece of relatively advanced syntax, but you should learn from examples like the ones below, and make use of them in the code you write in figure. Throughout this course (and others) you should make sure you are printing your answers to an appropriate number of significant figures, based on the significant figures of the inputs that you have been given."
   ]
  },
  {
   "cell_type": "code",
   "execution_count": null,
   "metadata": {},
   "outputs": [],
   "source": [
    "a = 1.2222223\n",
    "b = np.pi\n",
    "\n",
    "# Print the variables on their own (to more significant figures than are probably appropriate for your calculation)\n",
    "print(a, b)\n",
    "\n",
    "# With supporting text (still too many significant figures):\n",
    "print('Variable a: {0}; Pi: {1}'.format(a,b))\n",
    "# Note that {0} refers to the first variable you list after 'format' (i.e. a in this case),\n",
    "# {1} refers to the second variable (i.e. b in this case), etc.\n",
    "\n",
    "# To two decimal places:\n",
    "print('Variable a (2 d.p.): {0:.2f}; Pi: {1:.2f}'.format(a,b))\n",
    "\n",
    "# To one significant figure:\n",
    "print('Variable a (1 sig fig): {0:.1g}; Pi: {1:.1g}'.format(a,b))"
   ]
  },
  {
   "cell_type": "markdown",
   "metadata": {},
   "source": [
    "## Errors and Debugging\n",
    "Inevitably we will make mistakes when writing our code. Try running the cell below, and you will see that it does not work. The process of fixing your own code so that it runs successfully, and gives the correct answers, is known as *debugging*.\n",
    "\n",
    "Can you see what these common mistakes are, and debug the code so the cell runs successfully? Edit the comments to record what the error message was and what needed to be fixed"
   ]
  },
  {
   "cell_type": "markdown",
   "metadata": {},
   "source": [
    "#### Complete this cell after debugging and fixing the code in the next cell:\n",
    "This line originally read: `c = a + b / 2)`\n",
    "\n",
    "This resulted in an error that said: ????. This was because ???, and I fixed it by ???"
   ]
  },
  {
   "cell_type": "code",
   "execution_count": null,
   "metadata": {},
   "outputs": [],
   "source": [
    "c = a + b / 2)"
   ]
  },
  {
   "cell_type": "markdown",
   "metadata": {},
   "source": [
    "#### Complete this cell after debugging and fixing the code in the next cell:\n",
    "The first line originally read: `c = a + (b / 2`\n",
    "\n",
    "This resulted in an error that said: ????. This was because ???, and I fixed it by ???. This error was a bit misleading because ???!\n",
    "\n",
    "<br>\n",
    "\n",
    "The second line originally read: `c = a + z`\n",
    "\n",
    "This resulted in an error that said: ????. This was because ???, and I fixed it by ???"
   ]
  },
  {
   "cell_type": "code",
   "execution_count": null,
   "metadata": {},
   "outputs": [],
   "source": [
    "c = a + (b / 2\n",
    "\n",
    "c = a + z"
   ]
  },
  {
   "cell_type": "markdown",
   "metadata": {},
   "source": [
    "#### Complete this cell after debugging and fixing the code in the next cell:\n",
    "This line originally read `c = arccos(a)`\n",
    "\n",
    "This resulted in an error: ????. This was because ???, and I fixed it by ???"
   ]
  },
  {
   "cell_type": "code",
   "execution_count": null,
   "metadata": {},
   "outputs": [],
   "source": [
    "c = arccos(a)"
   ]
  },
  {
   "cell_type": "markdown",
   "metadata": {},
   "source": [
    "#### Complete this cell after debugging and fixing the code in the next cell:\n",
    "\n",
    "This line originally read `c = np.asin(a)`\n",
    "\n",
    "This resulted in an error: ????. This was because ???, and I fixed it by ???"
   ]
  },
  {
   "cell_type": "code",
   "execution_count": null,
   "metadata": {},
   "outputs": [],
   "source": [
    "c = np.asin(a)"
   ]
  },
  {
   "cell_type": "markdown",
   "metadata": {},
   "source": [
    "#### Complete this cell after debugging and fixing the code in the next cell:\n",
    "\n",
    "This line originally read `1stValue = a*2`\n",
    "\n",
    "This resulted in an error: ????. This was because ???, and I fixed it by ???"
   ]
  },
  {
   "cell_type": "code",
   "execution_count": null,
   "metadata": {},
   "outputs": [],
   "source": [
    "1stValue = a*2"
   ]
  },
  {
   "cell_type": "markdown",
   "metadata": {},
   "source": [
    "Not all mistakes are identified by the Python programming language as an error! Always think about the numbers your code is outputting: do they seem plausible? Can you check them by hand, for a simple example case?\n",
    "\n",
    "#### Complete this cell after debugging and fixing the code in the next cell:\n",
    "\n",
    "This line originally read `hypotenuse = np.sqrt(a**2) + b**2`\n",
    "\n",
    "This did not result in an error, but was incorrect because ???."
   ]
  },
  {
   "cell_type": "code",
   "execution_count": null,
   "metadata": {},
   "outputs": [],
   "source": [
    "hypotenuse = np.sqrt(a**2) + b**2\n",
    "print('A right-angled triangle with sides of length {0:.2f} and {1:.2f} has a hypotenuse of length {2:.2f}'.format(a, b, hypotenuse))"
   ]
  },
  {
   "cell_type": "markdown",
   "metadata": {},
   "source": [
    "# Exercise 1: Using Variables (4 Marks)\n",
    "\n",
    "A body is launched into the air at an angle $\\theta=25^\\circ$ (compared to ground level) with initial velocity of $v_0=7.5$m/s. Assume an acceleration due to gravity of $g=9.81$ms$^{-2}$.\n",
    "\n",
    "Calculate the following:\n",
    "\n",
    "1. Initial horizontal velocity $v_{\\rm x,0}$ and vertical velocity $v_{\\rm y,0}$. Do the NumPy trigonometric functions, e.g. `np.sin()` work with angles in degrees or radians? (Use an internet search to help you, if necessary). Can you find an easy way to convert between degrees and radians using NumPy?\n",
    "2. Total time the body spends in the air, T. Remember that the body spends as much time going up as going down, so $v_{\\rm y,0}=g T/2$.\n",
    "3. Altitude of the body after $t_1=200$ms, $t_2=400$ms and $t_3=T$.  The relevant formula is $h=v_{\\rm y,0} t-\\frac{1}{2}g t^{2}$. You then just have to change the time and re-evaluate.\n",
    "4. Distance from the launch position at times $t_1=200$ms, $t_2=400$ms and $t_3=T$, according to $d=\\sqrt{x^2 + y^2}$ where $x=v_{\\rm x,0}t$ and $y=v_{\\rm y,0}t -gt^{2}/2$.\n",
    "5. What is the maximum altitude?  At which distance from the launch position does the body hit the ground?\n",
    "\n",
    "N.B. You will come back to this exercise later on, so make sure you add clear comments to your code as a reminder to yourself of what it is doing!"
   ]
  },
  {
   "cell_type": "code",
   "execution_count": null,
   "metadata": {},
   "outputs": [],
   "source": [
    "# Write your set-up and answer question 1 here"
   ]
  },
  {
   "cell_type": "code",
   "execution_count": null,
   "metadata": {},
   "outputs": [],
   "source": [
    "# Answer question 2 here"
   ]
  },
  {
   "cell_type": "code",
   "execution_count": null,
   "metadata": {},
   "outputs": [],
   "source": [
    "# Answer question 3 here"
   ]
  },
  {
   "cell_type": "code",
   "execution_count": null,
   "metadata": {},
   "outputs": [],
   "source": [
    "# Answer question 4 here"
   ]
  },
  {
   "cell_type": "code",
   "execution_count": null,
   "metadata": {},
   "outputs": [],
   "source": [
    "# Answer question 5 here"
   ]
  }
 ],
 "metadata": {
  "kernelspec": {
   "display_name": "Python 3",
   "language": "python",
   "name": "python3"
  },
  "language_info": {
   "codemirror_mode": {
    "name": "ipython",
    "version": 3
   },
   "file_extension": ".py",
   "mimetype": "text/x-python",
   "name": "python",
   "nbconvert_exporter": "python",
   "pygments_lexer": "ipython3",
   "version": "3.7.3"
  }
 },
 "nbformat": 4,
 "nbformat_minor": 2
}
