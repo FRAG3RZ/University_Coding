{
 "cells": [
  {
   "cell_type": "markdown",
   "metadata": {},
   "source": [
    "# Programming with Python and Jupyter notebooks\n",
    "We will use the Python programming language to solve simple problems such as you will encounter in your experimental lab work. You may also find it helpful to build your understanding of the material you cover in your lecture courses.\n",
    "\n",
    "Python can be used to solve sophisticated tasks, but we will start by just treating this notebook as a simple calculator and build things up from there. If you have already done some programming (perhaps in a different language) then you will get through the early exercises quickly - but along the way you will pick up on important aspects of python syntax and style.\n",
    "\n",
    "\n",
    "# Precedence of Operators\n",
    "\n",
    "Just like with a calculator, *operators* such as `+` or `-` have a 'precedence', i.e. an order in which operators will be processed if you do not include brackets in your calculations (c.f. [BODMAS](https://en.wikipedia.org/wiki/Order_of_operations#Mnemonics) in high school).\n",
    "\n",
    "With the help of your search engine of choice, if you are unsure, put the [most common] operators, listed in the next cell, in order of precedence (you should edit the Markdown cell directly by double clicking the cell;  see [here](https://jupyter-notebook.readthedocs.io/en/stable/examples/Notebook/Working%20With%20Markdown%20Cells.html) for Markdown guidance).\n",
    "\n",
    "N.B. Some of these operations may share equal precedence - think about what might happen if these operators are used together."
   ]
  },
  {
   "cell_type": "markdown",
   "metadata": {},
   "source": [
    "**Edit this cell directly by double clicking, and put these operators in the correct order. Press `Ctrl+Enter` when you're done**\n",
    "\n",
    "* Multipication, e.g. `2*4`\n",
    "* Addition, e.g. `2+4`, and subtraction, e.g. `2-4`\n",
    "* Exponent, e.g. `2**4`\n",
    "* Division, e.g. `2/4`"
   ]
  },
  {
   "cell_type": "markdown",
   "metadata": {},
   "source": [
    "Based on your knowledge of precedence, what do you expect the outputs from the following two cells to be?\n",
    "Run them and explain the difference below.\n",
    "You can run a cell by clicking into the cell and hitting `Ctrl+Enter`."
   ]
  },
  {
   "cell_type": "code",
   "execution_count": null,
   "metadata": {},
   "outputs": [],
   "source": [
    "3+4/(5+6)"
   ]
  },
  {
   "cell_type": "code",
   "execution_count": null,
   "metadata": {},
   "outputs": [],
   "source": [
    "3+4/5+6"
   ]
  },
  {
   "cell_type": "markdown",
   "metadata": {},
   "source": [
    "**Explain the difference here**"
   ]
  },
  {
   "cell_type": "markdown",
   "metadata": {},
   "source": [
    "Now, using the Python cell below, use all of the numbers `3,4,5,6` and any operations to get an answer of `11`."
   ]
  },
  {
   "cell_type": "code",
   "execution_count": 3,
   "metadata": {},
   "outputs": [],
   "source": [
    "# Write your Python here"
   ]
  },
  {
   "cell_type": "markdown",
   "metadata": {},
   "source": [
    "# The Numpy Module"
   ]
  },
  {
   "cell_type": "markdown",
   "metadata": {},
   "source": [
    "Python is a very extensible programming language, and many of the more advanced features and useful tools are contained within 'modules'.\n",
    "\n",
    "One extremely important module for scientific programming in Python is called NumPy.\n",
    "NumPy is designed to allow easy mathematical operations including linear algebra, Fourier transforms, and so on. You will use it a lot!\n",
    "\n",
    "You will be using NumPy throughout this course and, as such, need to know how to 'import' the module, i.e. tell Python that you will be using it in your notebook.\n",
    "Run the cell below (remember: `Ctrl+Enter`) to import NumPy and execute the small example code - ask a demonstrator if there's anything you aren't sure about. When we import a module we can give it a nickname (an 'alias'), which we will use to access the *functions* contained inside that module. We could use any alias we want, but the convention is to use `np` for `numpy`, which is concise and will be immediately recognised by any other programmer reading your code.\n",
    "\n",
    "You can find out more about NumPy on their documentation pages: <http://www.numpy.org/>."
   ]
  },
  {
   "cell_type": "code",
   "execution_count": null,
   "metadata": {},
   "outputs": [],
   "source": [
    "# Here we import the module and give it the alias name 'np' (this is conventional)\n",
    "import numpy as np\n",
    "\n",
    "# Here we use the function 'sin' within the numpy module, to calculate the sine of pi/2\n",
    "np.sin(np.pi/2)"
   ]
  },
  {
   "cell_type": "markdown",
   "metadata": {},
   "source": [
    "# Using the internet to identify functions\n",
    "\n",
    "For simple mathematical operations, you might even be able to guess the name of the function, e.g. `np.sin()` gives the sine function, and `np.pi` is a variable contained in the `numpy` module that gives you the value of $\\pi$. Over time, you will learn the common ones by heart. When you are not sure, it is expected that you will routinely use the internet to find out the name of the function that will perform the operation you need to do.\n",
    "\n",
    "Internet searches can be challenging to interpret at first, because there is often more than one way to do what you need to do. Everything you need here should be available in NumPy, so you are better off searching \"Calculate logarithms with NumPy\" instead of the broader search \"Calculate logarithms with Python\".\n",
    "\n",
    "Many functions in Python and NumPy can be used in a straightforward manner, but also have a lot of optional advanced features that you won't need to use. If we search for \"calculate inverse cosine with NumPy\" we find ourselves at https://docs.scipy.org/doc/numpy-1.15.0/reference/generated/numpy.arccos.html. The page begins like this:\n",
    "![arccos](arccos.png)\n",
    "\n",
    "\n",
    "There is a huge amount of information on this webpage, much of it very advanced and intimidating, but don't let that put you off. All we need to know is right at the top here (red circles):\n",
    "\n",
    "1. The function is called \"numpy.arccos\"\n",
    "2. We pass it a parameter \"x\". Even though there is a load of other stuff listed, the word 'optional' appears next to its name in the list of parameters, i.e. we do not need to worry about it. x is the only parameter we need to worry about for now... or probably ever!\n",
    "3. The function calculates the trigonometric inverse cosine.\n",
    "4. The documentation describes this parameter as \"array-like\". We will learn later what an array is, but \"array-like\" means that as well as calculating the arccos of a single number we can also calculate the arccos of a whole array of numbers at once, if we wish."
   ]
  },
  {
   "cell_type": "markdown",
   "metadata": {},
   "source": [
    "# Exercise 1: Mathematical Functions (2 Marks)\n",
    "\n",
    "With the help of the `numpy` module where necessary, compute the following, one per cell:\n",
    "\n",
    "1. $e^2$\n",
    "2. $\\sqrt{8}$\n",
    "3. $\\ln{(e^{2\\pi})}$\n",
    "4. $2^3+5^4+7$\n",
    "5. $\\cos{({2\\pi}/3)}$\n",
    "6. $\\tan{(30^\\circ)}$\n",
    "7. $\\arctan{(\\sqrt{2})}$ - N.B. There are two types of arctan, read the NumPy documentation to identify which you should use."
   ]
  },
  {
   "cell_type": "code",
   "execution_count": 2,
   "metadata": {},
   "outputs": [
    {
     "data": {
      "text/plain": [
       "7.3890560989306495"
      ]
     },
     "execution_count": 2,
     "metadata": {},
     "output_type": "execute_result"
    }
   ],
   "source": [
    "import numpy as np\n",
    "\n",
    "(np.e)**2"
   ]
  },
  {
   "cell_type": "code",
   "execution_count": 4,
   "metadata": {},
   "outputs": [
    {
     "data": {
      "text/plain": [
       "2.8284271247461903"
      ]
     },
     "execution_count": 4,
     "metadata": {},
     "output_type": "execute_result"
    }
   ],
   "source": [
    "import numpy as np\n",
    "\n",
    "np.sqrt(8)"
   ]
  },
  {
   "cell_type": "code",
   "execution_count": 10,
   "metadata": {},
   "outputs": [
    {
     "data": {
      "text/plain": [
       "6.283185307179586"
      ]
     },
     "execution_count": 10,
     "metadata": {},
     "output_type": "execute_result"
    }
   ],
   "source": [
    "import numpy as np\n",
    "\n",
    "np.log((np.e)**(2*np.pi))"
   ]
  },
  {
   "cell_type": "code",
   "execution_count": 12,
   "metadata": {},
   "outputs": [
    {
     "data": {
      "text/plain": [
       "640"
      ]
     },
     "execution_count": 12,
     "metadata": {},
     "output_type": "execute_result"
    }
   ],
   "source": [
    "import numpy as np\n",
    "\n",
    "2**3+5**4+7"
   ]
  },
  {
   "cell_type": "code",
   "execution_count": 14,
   "metadata": {},
   "outputs": [
    {
     "data": {
      "text/plain": [
       "-0.4999999999999998"
      ]
     },
     "execution_count": 14,
     "metadata": {},
     "output_type": "execute_result"
    }
   ],
   "source": [
    "import numpy as np\n",
    "\n",
    "np.cos((2*np.pi)/3)"
   ]
  },
  {
   "cell_type": "code",
   "execution_count": 16,
   "metadata": {},
   "outputs": [
    {
     "data": {
      "text/plain": [
       "0.5773502691896256"
      ]
     },
     "execution_count": 16,
     "metadata": {},
     "output_type": "execute_result"
    }
   ],
   "source": [
    "import numpy as np\n",
    "\n",
    "np.tan(np.pi/6)"
   ]
  },
  {
   "cell_type": "code",
   "execution_count": 18,
   "metadata": {},
   "outputs": [
    {
     "data": {
      "text/plain": [
       "0.9553166181245093"
      ]
     },
     "execution_count": 18,
     "metadata": {},
     "output_type": "execute_result"
    }
   ],
   "source": [
    "import numpy as np\n",
    "\n",
    "np.arctan(np.sqrt(2))"
   ]
  }
 ],
 "metadata": {
  "kernelspec": {
   "display_name": "Python 3 (ipykernel)",
   "language": "python",
   "name": "python3"
  },
  "language_info": {
   "codemirror_mode": {
    "name": "ipython",
    "version": 3
   },
   "file_extension": ".py",
   "mimetype": "text/x-python",
   "name": "python",
   "nbconvert_exporter": "python",
   "pygments_lexer": "ipython3",
   "version": "3.12.4"
  }
 },
 "nbformat": 4,
 "nbformat_minor": 4
}
