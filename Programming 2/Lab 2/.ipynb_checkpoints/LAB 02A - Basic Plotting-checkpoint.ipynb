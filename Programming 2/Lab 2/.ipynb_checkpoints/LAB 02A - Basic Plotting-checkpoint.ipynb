{
 "cells": [
  {
   "cell_type": "code",
   "execution_count": null,
   "metadata": {},
   "outputs": [],
   "source": [
    "import numpy as np"
   ]
  },
  {
   "cell_type": "markdown",
   "metadata": {},
   "source": [
    "# NumPy Arrays\n",
    "\n",
    "A powerful feature of Python is that you can perform calculations not just on single numbers, but on a whole load of numbers simultaneously (for example, all the datapoints in your experiment). NumPy provides you with a special data type called an *array*. Arrays are n-dimensional matrices, so in fact you can use them represent scalars, vectors, matrices and tensors with any number of dimension.\n",
    "\n",
    "We can *initialize* an array with a list of numbers (and later we will also see how to load them from a file, if we wish).\n",
    "\n",
    "If we want to access a particular single *element* within an array, we use square brackets and an *index* (plural: indices) specifying which element we want to access. *Important*: Python indices start at zero, i.e. to refer to the first element of an array variable called `measurements`, we write `measurements[0]`."
   ]
  },
  {
   "cell_type": "code",
   "execution_count": null,
   "metadata": {},
   "outputs": [],
   "source": [
    "# 'Initialize' an array (i.e. in this case create a variable that represents an array of four numbers)\n",
    "voltages = np.array([10.4, 12, 3.1, 7.1])\n",
    "\n",
    "# Print out its values\n",
    "print(voltages)\n",
    "print(voltages[0])\n",
    "print('The first element in voltages has value {0}'.format(voltages[0]))\n",
    "print('The second element in voltages has value {0}'.format(voltages[1]))  # Note voltages[1], since we count from 0\n",
    "\n",
    "# We can do arithmetic with arrays, just like with scalar numbers\n",
    "adjustedVoltages = voltages - 2.1\n",
    "print(adjustedVoltages)"
   ]
  },
  {
   "cell_type": "markdown",
   "metadata": {},
   "source": [
    "Part of the power of Python is to do calculations on whole arrays of numbers (implicitly carrying out `for` or `while` loops on every element of them) in a single line. "
   ]
  },
  {
   "cell_type": "code",
   "execution_count": null,
   "metadata": {},
   "outputs": [],
   "source": [
    "# We can do more complex arithmetic on arrays, almost as easily as with scalars\n",
    "resistances = np.array([1000, 2000, 3000, 4000])\n",
    "currents = voltages/resistances\n",
    "currents = currents*1000 # change to mA\n",
    "print(\"First two Currents = {:.2f} mA,  {:.2f} mA\".format(currents[0], currents[1]))"
   ]
  },
  {
   "cell_type": "markdown",
   "metadata": {},
   "source": [
    "# Matplotlib\n",
    "\n",
    "You will plot many things during this course, and a common tool for plotting in Python is Matplotlib. Matplotlib can produce high quality, flexible 2D plots and is integrated with the Jupyter interface so that the plots show up in your notebook.\n",
    "\n",
    "Matplotlib will usually expect data in the forms of 1D numpy arrays (or similar), and it can be used to generate scatter plots, segmented line plots and histograms.\n",
    "\n",
    "Using Matplotlib you will be able to add annotations such as axis labels, a title, and error bars to your plots.\n",
    "\n",
    "Run the cell below. This is a simple example of a `plot`, note how the curve appears as a series of straight lines, because we've only provided a very small number of points in $x$.\n",
    "\n",
    "N.B. `np.linspace()` is a useful command that allows you to generate an array of evenly spaced numbers over a given interval."
   ]
  },
  {
   "cell_type": "code",
   "execution_count": null,
   "metadata": {},
   "outputs": [],
   "source": [
    "import matplotlib.pyplot as plt  # import the matplotlib module\n",
    "# It is conventional to use the alias name 'plt' for matplotlib"
   ]
  },
  {
   "cell_type": "code",
   "execution_count": null,
   "metadata": {},
   "outputs": [],
   "source": [
    "# Create sample data\n",
    "# x is an array consisting of ten evenly-spaced points between -pi and pi\n",
    "x = np.linspace(-np.pi, np.pi, num=10)\n",
    "# y is an array consisting of the sine of each of the counterpart values in the x array\n",
    "y = np.sin(x)\n",
    "\n",
    "# Create plot, add axis labels and a title\n",
    "plt.plot(x, y, label='Sin(x)')\n",
    "plt.xlabel('X/radians')\n",
    "plt.ylabel('sin(X)')\n",
    "plt.title('My Plot')\n",
    "plt.legend() # Shows the plot legend\n",
    "plt.show()  # This actually draws the plot (and enables us to move on to drawing another one, if we wish)"
   ]
  },
  {
   "cell_type": "markdown",
   "metadata": {},
   "source": [
    "Jupyter notebooks are able to show many plots throughout a notebook. In the cell below, create a plot that shows both $\\sin(x)$ and $\\cos(x)$ on the same axis. You should use enough points that the curves look nice and smooth. Make sure you add a legend so that we know which curve is which."
   ]
  },
  {
   "cell_type": "code",
   "execution_count": null,
   "metadata": {},
   "outputs": [],
   "source": [
    "# Create your plot here\n",
    "\n",
    "# It is good practice to use plt.show() after each figure\n"
   ]
  },
  {
   "cell_type": "markdown",
   "metadata": {},
   "source": [
    "# Saving Figures\n",
    "\n",
    "Figures can be saved to disk using the `savefig` function. Look at the documentation for `savefig` ([here](https://matplotlib.org/api/_as_gen/matplotlib.pyplot.savefig.html)). Again, there are lots of optional parameters, but only the first one is essential so you can ignore the others for now, if you wish. Note that when it says a parameter is of type `str` ('string') it means you provide some text in the same way as you have already done for printing out some text:\n",
    "```python\n",
    "'the single quotes make this a string' \n",
    "```\n",
    "\n",
    "Now use the cell below to create a suitably labelled plot of $\\cos(x)$, and save the figure you create as a png file."
   ]
  },
  {
   "cell_type": "code",
   "execution_count": null,
   "metadata": {},
   "outputs": [],
   "source": [
    "# Create your plot here and use 'savefig' to save it\n",
    "\n"
   ]
  },
  {
   "cell_type": "markdown",
   "metadata": {},
   "source": [
    "# Subplots\n",
    "\n",
    "Often you will have multiple plots that you may want to display next to each other (as opposed to multiple lines on a single plot). For this purpose Matplotlib can create subplots.\n",
    "\n",
    "There is extensive documentation for Matplotlib, accompanied by a visual gallery of plots and the code that generated them (<https://matplotlib.org/index.html>). This can be very helpful if you know how you want your plot to look but aren't sure how to achieve it. However, as we saw with `numpy`, the `matplotlib` documentation has its own style and can take a while to get used to! Let's take a look at the documentation for `plt.subplot` (<https://matplotlib.org/3.1.0/api/_as_gen/matplotlib.pyplot.subplot.html>):\n",
    "\n",
    "![subplot](subplot.png)\n",
    "\n",
    "There is a long list of parameters given, but most are designated 'optional'. If we end up using those later, the best way to discover them is probably just by looking at example code and then (perhaps) referring back to this webpage for more information on what those options mean. The only one that matters to us for now is the first compulsory one. The compulsory ones are often designated as `*args` (let's not worry about why...!), and in this case it explains that we can provide 'Either a 3-digit integer or three separate integers describing the position of the subplot'.\n",
    "\n",
    "After an initial read of this, it's probably easiest if we just learn by looking at examples. Scroll down to the bottom of the webpage and we find a visual gallery of examples, some simpler and some very complicated. The one called 'multiple subplots' looks fairly uncomplicated, and when we click on it we see that the code is fairly brief (always a good sign!). \n",
    "\n",
    "In the cell below, create a figure with two subplots (stacked one above the other). In the first subplot, plot $\\sin(x)$ and $\\sin(2x)$ on the same axes. In the second subplot, plot $\\sin(x) + \\sin(2x)$. Feel free to use code from the visual gallery of examples as inspiration for writing your own code."
   ]
  },
  {
   "cell_type": "code",
   "execution_count": null,
   "metadata": {},
   "outputs": [],
   "source": [
    "# Create your plot here\n",
    "\n"
   ]
  },
  {
   "cell_type": "markdown",
   "metadata": {},
   "source": [
    "# Warm up Exercise : Plotting Mathematical Functions\n",
    "Plot the electric potential, $V$, as a function of $r$ for a point charge of $5.0\\times 10^{-5}$C located at the origin. Remember that the potential is defined as $V=-\\frac{1}{4\\pi\\epsilon_0}\\frac{Q}{r}$ where $r$ is the distance from the charge origin. \n",
    "\n",
    "For readability it is good practice to create variables to represent scientific constants and experimental parameters such as $\\epsilon_0$ and $Q$. Use `np.linspace` to create a reasonable number of points in $r$ from $r = 0 cm$ to $r = 10 cm$. Make reasonable decisions about the axes, label each axis with appropriate units and add a title. Save your figure as `electric_potential.png`.\n",
    "\n",
    "Do you get a warning message? What does the message mean? Does the message tell you which line caused the warning? Write an explanation in the Markdown cell. What should you change to prevent this warning?"
   ]
  },
  {
   "cell_type": "code",
   "execution_count": 23,
   "metadata": {},
   "outputs": [
    {
     "data": {
      "image/png": "[encoded data removed]",
      "text/plain": [
       "<Figure size 640x480 with 1 Axes>"
      ]
     },
     "metadata": {},
     "output_type": "display_data"
    },
    {
     "ename": "FileNotFoundError",
     "evalue": "[Errno 2] No such file or directory: '/Users/danielborkovec/University/Programming 2/Lab 2/*/Desktop/Uni/Programming 2/electric_potential_epsilon.png'",
     "output_type": "error",
     "traceback": [
      "\u001b[0;31m---------------------------------------------------------------------------\u001b[0m",
      "\u001b[0;31mFileNotFoundError\u001b[0m                         Traceback (most recent call last)",
      "Cell \u001b[0;32mIn[23], line 21\u001b[0m\n\u001b[1;32m     18\u001b[0m plt\u001b[38;5;241m.\u001b[39mlegend() \u001b[38;5;66;03m# Shows the plot legend\u001b[39;00m\n\u001b[1;32m     19\u001b[0m plt\u001b[38;5;241m.\u001b[39mshow()  \u001b[38;5;66;03m# This actually draws the plot (and enables us to move on to drawing another one, if we wish)\u001b[39;00m\n\u001b[0;32m---> 21\u001b[0m plt\u001b[38;5;241m.\u001b[39msavefig(\u001b[38;5;124m\"\u001b[39m\u001b[38;5;124m*/Desktop/Uni/Programming 2/electric_potential_epsilon.png\u001b[39m\u001b[38;5;124m\"\u001b[39m)\n",
      "File \u001b[0;32m/opt/anaconda3/lib/python3.12/site-packages/matplotlib/pyplot.py:1134\u001b[0m, in \u001b[0;36msavefig\u001b[0;34m(*args, **kwargs)\u001b[0m\n\u001b[1;32m   1131\u001b[0m fig \u001b[38;5;241m=\u001b[39m gcf()\n\u001b[1;32m   1132\u001b[0m \u001b[38;5;66;03m# savefig default implementation has no return, so mypy is unhappy\u001b[39;00m\n\u001b[1;32m   1133\u001b[0m \u001b[38;5;66;03m# presumably this is here because subclasses can return?\u001b[39;00m\n\u001b[0;32m-> 1134\u001b[0m res \u001b[38;5;241m=\u001b[39m fig\u001b[38;5;241m.\u001b[39msavefig(\u001b[38;5;241m*\u001b[39margs, \u001b[38;5;241m*\u001b[39m\u001b[38;5;241m*\u001b[39mkwargs)  \u001b[38;5;66;03m# type: ignore[func-returns-value]\u001b[39;00m\n\u001b[1;32m   1135\u001b[0m fig\u001b[38;5;241m.\u001b[39mcanvas\u001b[38;5;241m.\u001b[39mdraw_idle()  \u001b[38;5;66;03m# Need this if 'transparent=True', to reset colors.\u001b[39;00m\n\u001b[1;32m   1136\u001b[0m \u001b[38;5;28;01mreturn\u001b[39;00m res\n",
      "File \u001b[0;32m/opt/anaconda3/lib/python3.12/site-packages/matplotlib/figure.py:3390\u001b[0m, in \u001b[0;36mFigure.savefig\u001b[0;34m(self, fname, transparent, **kwargs)\u001b[0m\n\u001b[1;32m   3388\u001b[0m     \u001b[38;5;28;01mfor\u001b[39;00m ax \u001b[38;5;129;01min\u001b[39;00m \u001b[38;5;28mself\u001b[39m\u001b[38;5;241m.\u001b[39maxes:\n\u001b[1;32m   3389\u001b[0m         _recursively_make_axes_transparent(stack, ax)\n\u001b[0;32m-> 3390\u001b[0m \u001b[38;5;28mself\u001b[39m\u001b[38;5;241m.\u001b[39mcanvas\u001b[38;5;241m.\u001b[39mprint_figure(fname, \u001b[38;5;241m*\u001b[39m\u001b[38;5;241m*\u001b[39mkwargs)\n",
      "File \u001b[0;32m/opt/anaconda3/lib/python3.12/site-packages/matplotlib/backend_bases.py:2193\u001b[0m, in \u001b[0;36mFigureCanvasBase.print_figure\u001b[0;34m(self, filename, dpi, facecolor, edgecolor, orientation, format, bbox_inches, pad_inches, bbox_extra_artists, backend, **kwargs)\u001b[0m\n\u001b[1;32m   2189\u001b[0m \u001b[38;5;28;01mtry\u001b[39;00m:\n\u001b[1;32m   2190\u001b[0m     \u001b[38;5;66;03m# _get_renderer may change the figure dpi (as vector formats\u001b[39;00m\n\u001b[1;32m   2191\u001b[0m     \u001b[38;5;66;03m# force the figure dpi to 72), so we need to set it again here.\u001b[39;00m\n\u001b[1;32m   2192\u001b[0m     \u001b[38;5;28;01mwith\u001b[39;00m cbook\u001b[38;5;241m.\u001b[39m_setattr_cm(\u001b[38;5;28mself\u001b[39m\u001b[38;5;241m.\u001b[39mfigure, dpi\u001b[38;5;241m=\u001b[39mdpi):\n\u001b[0;32m-> 2193\u001b[0m         result \u001b[38;5;241m=\u001b[39m print_method(\n\u001b[1;32m   2194\u001b[0m             filename,\n\u001b[1;32m   2195\u001b[0m             facecolor\u001b[38;5;241m=\u001b[39mfacecolor,\n\u001b[1;32m   2196\u001b[0m             edgecolor\u001b[38;5;241m=\u001b[39medgecolor,\n\u001b[1;32m   2197\u001b[0m             orientation\u001b[38;5;241m=\u001b[39morientation,\n\u001b[1;32m   2198\u001b[0m             bbox_inches_restore\u001b[38;5;241m=\u001b[39m_bbox_inches_restore,\n\u001b[1;32m   2199\u001b[0m             \u001b[38;5;241m*\u001b[39m\u001b[38;5;241m*\u001b[39mkwargs)\n\u001b[1;32m   2200\u001b[0m \u001b[38;5;28;01mfinally\u001b[39;00m:\n\u001b[1;32m   2201\u001b[0m     \u001b[38;5;28;01mif\u001b[39;00m bbox_inches \u001b[38;5;129;01mand\u001b[39;00m restore_bbox:\n",
      "File \u001b[0;32m/opt/anaconda3/lib/python3.12/site-packages/matplotlib/backend_bases.py:2043\u001b[0m, in \u001b[0;36mFigureCanvasBase._switch_canvas_and_return_print_method.<locals>.<lambda>\u001b[0;34m(*args, **kwargs)\u001b[0m\n\u001b[1;32m   2039\u001b[0m     optional_kws \u001b[38;5;241m=\u001b[39m {  \u001b[38;5;66;03m# Passed by print_figure for other renderers.\u001b[39;00m\n\u001b[1;32m   2040\u001b[0m         \u001b[38;5;124m\"\u001b[39m\u001b[38;5;124mdpi\u001b[39m\u001b[38;5;124m\"\u001b[39m, \u001b[38;5;124m\"\u001b[39m\u001b[38;5;124mfacecolor\u001b[39m\u001b[38;5;124m\"\u001b[39m, \u001b[38;5;124m\"\u001b[39m\u001b[38;5;124medgecolor\u001b[39m\u001b[38;5;124m\"\u001b[39m, \u001b[38;5;124m\"\u001b[39m\u001b[38;5;124morientation\u001b[39m\u001b[38;5;124m\"\u001b[39m,\n\u001b[1;32m   2041\u001b[0m         \u001b[38;5;124m\"\u001b[39m\u001b[38;5;124mbbox_inches_restore\u001b[39m\u001b[38;5;124m\"\u001b[39m}\n\u001b[1;32m   2042\u001b[0m     skip \u001b[38;5;241m=\u001b[39m optional_kws \u001b[38;5;241m-\u001b[39m {\u001b[38;5;241m*\u001b[39minspect\u001b[38;5;241m.\u001b[39msignature(meth)\u001b[38;5;241m.\u001b[39mparameters}\n\u001b[0;32m-> 2043\u001b[0m     print_method \u001b[38;5;241m=\u001b[39m functools\u001b[38;5;241m.\u001b[39mwraps(meth)(\u001b[38;5;28;01mlambda\u001b[39;00m \u001b[38;5;241m*\u001b[39margs, \u001b[38;5;241m*\u001b[39m\u001b[38;5;241m*\u001b[39mkwargs: meth(\n\u001b[1;32m   2044\u001b[0m         \u001b[38;5;241m*\u001b[39margs, \u001b[38;5;241m*\u001b[39m\u001b[38;5;241m*\u001b[39m{k: v \u001b[38;5;28;01mfor\u001b[39;00m k, v \u001b[38;5;129;01min\u001b[39;00m kwargs\u001b[38;5;241m.\u001b[39mitems() \u001b[38;5;28;01mif\u001b[39;00m k \u001b[38;5;129;01mnot\u001b[39;00m \u001b[38;5;129;01min\u001b[39;00m skip}))\n\u001b[1;32m   2045\u001b[0m \u001b[38;5;28;01melse\u001b[39;00m:  \u001b[38;5;66;03m# Let third-parties do as they see fit.\u001b[39;00m\n\u001b[1;32m   2046\u001b[0m     print_method \u001b[38;5;241m=\u001b[39m meth\n",
      "File \u001b[0;32m/opt/anaconda3/lib/python3.12/site-packages/matplotlib/backends/backend_agg.py:497\u001b[0m, in \u001b[0;36mFigureCanvasAgg.print_png\u001b[0;34m(self, filename_or_obj, metadata, pil_kwargs)\u001b[0m\n\u001b[1;32m    450\u001b[0m \u001b[38;5;28;01mdef\u001b[39;00m \u001b[38;5;21mprint_png\u001b[39m(\u001b[38;5;28mself\u001b[39m, filename_or_obj, \u001b[38;5;241m*\u001b[39m, metadata\u001b[38;5;241m=\u001b[39m\u001b[38;5;28;01mNone\u001b[39;00m, pil_kwargs\u001b[38;5;241m=\u001b[39m\u001b[38;5;28;01mNone\u001b[39;00m):\n\u001b[1;32m    451\u001b[0m \u001b[38;5;250m    \u001b[39m\u001b[38;5;124;03m\"\"\"\u001b[39;00m\n\u001b[1;32m    452\u001b[0m \u001b[38;5;124;03m    Write the figure to a PNG file.\u001b[39;00m\n\u001b[1;32m    453\u001b[0m \n\u001b[0;32m   (...)\u001b[0m\n\u001b[1;32m    495\u001b[0m \u001b[38;5;124;03m        *metadata*, including the default 'Software' key.\u001b[39;00m\n\u001b[1;32m    496\u001b[0m \u001b[38;5;124;03m    \"\"\"\u001b[39;00m\n\u001b[0;32m--> 497\u001b[0m     \u001b[38;5;28mself\u001b[39m\u001b[38;5;241m.\u001b[39m_print_pil(filename_or_obj, \u001b[38;5;124m\"\u001b[39m\u001b[38;5;124mpng\u001b[39m\u001b[38;5;124m\"\u001b[39m, pil_kwargs, metadata)\n",
      "File \u001b[0;32m/opt/anaconda3/lib/python3.12/site-packages/matplotlib/backends/backend_agg.py:446\u001b[0m, in \u001b[0;36mFigureCanvasAgg._print_pil\u001b[0;34m(self, filename_or_obj, fmt, pil_kwargs, metadata)\u001b[0m\n\u001b[1;32m    441\u001b[0m \u001b[38;5;250m\u001b[39m\u001b[38;5;124;03m\"\"\"\u001b[39;00m\n\u001b[1;32m    442\u001b[0m \u001b[38;5;124;03mDraw the canvas, then save it using `.image.imsave` (to which\u001b[39;00m\n\u001b[1;32m    443\u001b[0m \u001b[38;5;124;03m*pil_kwargs* and *metadata* are forwarded).\u001b[39;00m\n\u001b[1;32m    444\u001b[0m \u001b[38;5;124;03m\"\"\"\u001b[39;00m\n\u001b[1;32m    445\u001b[0m FigureCanvasAgg\u001b[38;5;241m.\u001b[39mdraw(\u001b[38;5;28mself\u001b[39m)\n\u001b[0;32m--> 446\u001b[0m mpl\u001b[38;5;241m.\u001b[39mimage\u001b[38;5;241m.\u001b[39mimsave(\n\u001b[1;32m    447\u001b[0m     filename_or_obj, \u001b[38;5;28mself\u001b[39m\u001b[38;5;241m.\u001b[39mbuffer_rgba(), \u001b[38;5;28mformat\u001b[39m\u001b[38;5;241m=\u001b[39mfmt, origin\u001b[38;5;241m=\u001b[39m\u001b[38;5;124m\"\u001b[39m\u001b[38;5;124mupper\u001b[39m\u001b[38;5;124m\"\u001b[39m,\n\u001b[1;32m    448\u001b[0m     dpi\u001b[38;5;241m=\u001b[39m\u001b[38;5;28mself\u001b[39m\u001b[38;5;241m.\u001b[39mfigure\u001b[38;5;241m.\u001b[39mdpi, metadata\u001b[38;5;241m=\u001b[39mmetadata, pil_kwargs\u001b[38;5;241m=\u001b[39mpil_kwargs)\n",
      "File \u001b[0;32m/opt/anaconda3/lib/python3.12/site-packages/matplotlib/image.py:1656\u001b[0m, in \u001b[0;36mimsave\u001b[0;34m(fname, arr, vmin, vmax, cmap, format, origin, dpi, metadata, pil_kwargs)\u001b[0m\n\u001b[1;32m   1654\u001b[0m pil_kwargs\u001b[38;5;241m.\u001b[39msetdefault(\u001b[38;5;124m\"\u001b[39m\u001b[38;5;124mformat\u001b[39m\u001b[38;5;124m\"\u001b[39m, \u001b[38;5;28mformat\u001b[39m)\n\u001b[1;32m   1655\u001b[0m pil_kwargs\u001b[38;5;241m.\u001b[39msetdefault(\u001b[38;5;124m\"\u001b[39m\u001b[38;5;124mdpi\u001b[39m\u001b[38;5;124m\"\u001b[39m, (dpi, dpi))\n\u001b[0;32m-> 1656\u001b[0m image\u001b[38;5;241m.\u001b[39msave(fname, \u001b[38;5;241m*\u001b[39m\u001b[38;5;241m*\u001b[39mpil_kwargs)\n",
      "File \u001b[0;32m/opt/anaconda3/lib/python3.12/site-packages/PIL/Image.py:2456\u001b[0m, in \u001b[0;36mImage.save\u001b[0;34m(self, fp, format, **params)\u001b[0m\n\u001b[1;32m   2454\u001b[0m         fp \u001b[38;5;241m=\u001b[39m builtins\u001b[38;5;241m.\u001b[39mopen(filename, \u001b[38;5;124m\"\u001b[39m\u001b[38;5;124mr+b\u001b[39m\u001b[38;5;124m\"\u001b[39m)\n\u001b[1;32m   2455\u001b[0m     \u001b[38;5;28;01melse\u001b[39;00m:\n\u001b[0;32m-> 2456\u001b[0m         fp \u001b[38;5;241m=\u001b[39m builtins\u001b[38;5;241m.\u001b[39mopen(filename, \u001b[38;5;124m\"\u001b[39m\u001b[38;5;124mw+b\u001b[39m\u001b[38;5;124m\"\u001b[39m)\n\u001b[1;32m   2458\u001b[0m \u001b[38;5;28;01mtry\u001b[39;00m:\n\u001b[1;32m   2459\u001b[0m     save_handler(\u001b[38;5;28mself\u001b[39m, fp, filename)\n",
      "\u001b[0;31mFileNotFoundError\u001b[0m: [Errno 2] No such file or directory: '/Users/danielborkovec/University/Programming 2/Lab 2/*/Desktop/Uni/Programming 2/electric_potential_epsilon.png'"
     ]
    },
    {
     "data": {
      "text/plain": [
       "<Figure size 640x480 with 0 Axes>"
      ]
     },
     "metadata": {},
     "output_type": "display_data"
    }
   ],
   "source": [
    "import matplotlib.pyplot as plt  # import the matplotlib module\n",
    "import numpy as np\n",
    "\n",
    "# Create sample data\n",
    "q = 5.0e-5\n",
    "epsilon = 8.854e-12\n",
    "\n",
    "r = np.linspace(0.01, 0.1, 100)\n",
    "\n",
    "# Electric potential formula V = (1 / (4 * pi * epsilon_0)) * (q / r)\n",
    "V = (1 / (4 * np.pi * epsilon)) * (q / r)\n",
    "\n",
    "# Create plot, add axis labels and a title\n",
    "plt.plot(r, V, label='Voltage')\n",
    "plt.xlabel('X/m')\n",
    "plt.ylabel('Voltage')\n",
    "plt.title('Graph of Electric Potential vs. Distance')\n",
    "plt.legend() # Shows the plot legend\n",
    "plt.show()  # This actually draws the plot (and enables us to move on to drawing another one, if we wish)\n",
    "\n",
    "plt.savefig(\"*/Desktop/Uni/Programming 2/electric_potential_epsilon.png\")"
   ]
  },
  {
   "cell_type": "markdown",
   "metadata": {},
   "source": [
    "**Write your explanation of the warning message here.**\n",
    "We cannot start at r = 0 since we can't divide by zero\n"
   ]
  }
 ],
 "metadata": {
  "kernelspec": {
   "display_name": "Python 3 (ipykernel)",
   "language": "python",
   "name": "python3"
  },
  "language_info": {
   "codemirror_mode": {
    "name": "ipython",
    "version": 3
   },
   "file_extension": ".py",
   "mimetype": "text/x-python",
   "name": "python",
   "nbconvert_exporter": "python",
   "pygments_lexer": "ipython3",
   "version": "3.12.4"
  }
 },
 "nbformat": 4,
 "nbformat_minor": 4
}
