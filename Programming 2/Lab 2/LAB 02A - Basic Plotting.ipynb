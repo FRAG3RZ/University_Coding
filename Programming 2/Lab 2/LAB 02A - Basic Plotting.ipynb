{
 "cells": [
  {
   "cell_type": "code",
   "execution_count": null,
   "metadata": {},
   "outputs": [],
   "source": [
    "import numpy as np"
   ]
  },
  {
   "cell_type": "markdown",
   "metadata": {},
   "source": [
    "# NumPy Arrays\n",
    "\n",
    "A powerful feature of Python is that you can perform calculations not just on single numbers, but on a whole load of numbers simultaneously (for example, all the datapoints in your experiment). NumPy provides you with a special data type called an *array*. Arrays are n-dimensional matrices, so in fact you can use them represent scalars, vectors, matrices and tensors with any number of dimension.\n",
    "\n",
    "We can *initialize* an array with a list of numbers (and later we will also see how to load them from a file, if we wish).\n",
    "\n",
    "If we want to access a particular single *element* within an array, we use square brackets and an *index* (plural: indices) specifying which element we want to access. *Important*: Python indices start at zero, i.e. to refer to the first element of an array variable called `measurements`, we write `measurements[0]`."
   ]
  },
  {
   "cell_type": "code",
   "execution_count": null,
   "metadata": {},
   "outputs": [],
   "source": [
    "# 'Initialize' an array (i.e. in this case create a variable that represents an array of four numbers)\n",
    "voltages = np.array([10.4, 12, 3.1, 7.1])\n",
    "\n",
    "# Print out its values\n",
    "print(voltages)\n",
    "print(voltages[0])\n",
    "print('The first element in voltages has value {0}'.format(voltages[0]))\n",
    "print('The second element in voltages has value {0}'.format(voltages[1]))  # Note voltages[1], since we count from 0\n",
    "\n",
    "# We can do arithmetic with arrays, just like with scalar numbers\n",
    "adjustedVoltages = voltages - 2.1\n",
    "print(adjustedVoltages)"
   ]
  },
  {
   "cell_type": "markdown",
   "metadata": {},
   "source": [
    "Part of the power of Python is to do calculations on whole arrays of numbers (implicitly carrying out `for` or `while` loops on every element of them) in a single line. "
   ]
  },
  {
   "cell_type": "code",
   "execution_count": null,
   "metadata": {},
   "outputs": [],
   "source": [
    "# We can do more complex arithmetic on arrays, almost as easily as with scalars\n",
    "resistances = np.array([1000, 2000, 3000, 4000])\n",
    "currents = voltages/resistances\n",
    "currents = currents*1000 # change to mA\n",
    "print(\"First two Currents = {:.2f} mA,  {:.2f} mA\".format(currents[0], currents[1]))"
   ]
  },
  {
   "cell_type": "markdown",
   "metadata": {},
   "source": [
    "# Matplotlib\n",
    "\n",
    "You will plot many things during this course, and a common tool for plotting in Python is Matplotlib. Matplotlib can produce high quality, flexible 2D plots and is integrated with the Jupyter interface so that the plots show up in your notebook.\n",
    "\n",
    "Matplotlib will usually expect data in the forms of 1D numpy arrays (or similar), and it can be used to generate scatter plots, segmented line plots and histograms.\n",
    "\n",
    "Using Matplotlib you will be able to add annotations such as axis labels, a title, and error bars to your plots.\n",
    "\n",
    "Run the cell below. This is a simple example of a `plot`, note how the curve appears as a series of straight lines, because we've only provided a very small number of points in $x$.\n",
    "\n",
    "N.B. `np.linspace()` is a useful command that allows you to generate an array of evenly spaced numbers over a given interval."
   ]
  },
  {
   "cell_type": "code",
   "execution_count": null,
   "metadata": {},
   "outputs": [],
   "source": [
    "import matplotlib.pyplot as plt  # import the matplotlib module\n",
    "# It is conventional to use the alias name 'plt' for matplotlib"
   ]
  },
  {
   "cell_type": "code",
   "execution_count": null,
   "metadata": {},
   "outputs": [],
   "source": [
    "# Create sample data\n",
    "# x is an array consisting of ten evenly-spaced points between -pi and pi\n",
    "x = np.linspace(-np.pi, np.pi, num=10)\n",
    "# y is an array consisting of the sine of each of the counterpart values in the x array\n",
    "y = np.sin(x)\n",
    "\n",
    "# Create plot, add axis labels and a title\n",
    "plt.plot(x, y, label='Sin(x)')\n",
    "plt.xlabel('X/radians')\n",
    "plt.ylabel('sin(X)')\n",
    "plt.title('My Plot')\n",
    "plt.legend() # Shows the plot legend\n",
    "plt.show()  # This actually draws the plot (and enables us to move on to drawing another one, if we wish)"
   ]
  },
  {
   "cell_type": "markdown",
   "metadata": {},
   "source": [
    "Jupyter notebooks are able to show many plots throughout a notebook. In the cell below, create a plot that shows both $\\sin(x)$ and $\\cos(x)$ on the same axis. You should use enough points that the curves look nice and smooth. Make sure you add a legend so that we know which curve is which."
   ]
  },
  {
   "cell_type": "code",
   "execution_count": null,
   "metadata": {},
   "outputs": [],
   "source": [
    "# Create your plot here\n",
    "\n",
    "# It is good practice to use plt.show() after each figure\n"
   ]
  },
  {
   "cell_type": "markdown",
   "metadata": {},
   "source": [
    "# Saving Figures\n",
    "\n",
    "Figures can be saved to disk using the `savefig` function. Look at the documentation for `savefig` ([here](https://matplotlib.org/api/_as_gen/matplotlib.pyplot.savefig.html)). Again, there are lots of optional parameters, but only the first one is essential so you can ignore the others for now, if you wish. Note that when it says a parameter is of type `str` ('string') it means you provide some text in the same way as you have already done for printing out some text:\n",
    "```python\n",
    "'the single quotes make this a string' \n",
    "```\n",
    "\n",
    "Now use the cell below to create a suitably labelled plot of $\\cos(x)$, and save the figure you create as a png file."
   ]
  },
  {
   "cell_type": "code",
   "execution_count": null,
   "metadata": {},
   "outputs": [],
   "source": [
    "# Create your plot here and use 'savefig' to save it\n",
    "\n"
   ]
  },
  {
   "cell_type": "markdown",
   "metadata": {},
   "source": [
    "# Subplots\n",
    "\n",
    "Often you will have multiple plots that you may want to display next to each other (as opposed to multiple lines on a single plot). For this purpose Matplotlib can create subplots.\n",
    "\n",
    "There is extensive documentation for Matplotlib, accompanied by a visual gallery of plots and the code that generated them (<https://matplotlib.org/index.html>). This can be very helpful if you know how you want your plot to look but aren't sure how to achieve it. However, as we saw with `numpy`, the `matplotlib` documentation has its own style and can take a while to get used to! Let's take a look at the documentation for `plt.subplot` (<https://matplotlib.org/3.1.0/api/_as_gen/matplotlib.pyplot.subplot.html>):\n",
    "\n",
    "![subplot](subplot.png)\n",
    "\n",
    "There is a long list of parameters given, but most are designated 'optional'. If we end up using those later, the best way to discover them is probably just by looking at example code and then (perhaps) referring back to this webpage for more information on what those options mean. The only one that matters to us for now is the first compulsory one. The compulsory ones are often designated as `*args` (let's not worry about why...!), and in this case it explains that we can provide 'Either a 3-digit integer or three separate integers describing the position of the subplot'.\n",
    "\n",
    "After an initial read of this, it's probably easiest if we just learn by looking at examples. Scroll down to the bottom of the webpage and we find a visual gallery of examples, some simpler and some very complicated. The one called 'multiple subplots' looks fairly uncomplicated, and when we click on it we see that the code is fairly brief (always a good sign!). \n",
    "\n",
    "In the cell below, create a figure with two subplots (stacked one above the other). In the first subplot, plot $\\sin(x)$ and $\\sin(2x)$ on the same axes. In the second subplot, plot $\\sin(x) + \\sin(2x)$. Feel free to use code from the visual gallery of examples as inspiration for writing your own code."
   ]
  },
  {
   "cell_type": "code",
   "execution_count": null,
   "metadata": {},
   "outputs": [],
   "source": [
    "# Create your plot here\n",
    "\n"
   ]
  },
  {
   "cell_type": "markdown",
   "metadata": {},
   "source": [
    "# Warm up Exercise : Plotting Mathematical Functions\n",
    "Plot the electric potential, $V$, as a function of $r$ for a point charge of $5.0\\times 10^{-5}$C located at the origin. Remember that the potential is defined as $V=-\\frac{1}{4\\pi\\epsilon_0}\\frac{Q}{r}$ where $r$ is the distance from the charge origin. \n",
    "\n",
    "For readability it is good practice to create variables to represent scientific constants and experimental parameters such as $\\epsilon_0$ and $Q$. Use `np.linspace` to create a reasonable number of points in $r$ from $r = 0 cm$ to $r = 10 cm$. Make reasonable decisions about the axes, label each axis with appropriate units and add a title. Save your figure as `electric_potential.png`.\n",
    "\n",
    "Do you get a warning message? What does the message mean? Does the message tell you which line caused the warning? Write an explanation in the Markdown cell. What should you change to prevent this warning?"
   ]
  },
  {
   "cell_type": "code",
   "execution_count": 6,
   "metadata": {},
   "outputs": [
    {
     "data": {
      "image/png": "[encoded data removed]",
      "text/plain": [
       "<Figure size 640x480 with 1 Axes>"
      ]
     },
     "metadata": {},
     "output_type": "display_data"
    }
   ],
   "source": [
    "import matplotlib.pyplot as plt  # import the matplotlib module\n",
    "import numpy as np\n",
    "\n",
    "# Create sample data\n",
    "q = 5.0e-5\n",
    "epsilon = 8.854e-12\n",
    "\n",
    "r = np.linspace(0.01, 0.1, 1000)\n",
    "\n",
    "# Electric potential formula V = (1 / (4 * pi * epsilon_0)) * (q / r)\n",
    "V = -(1 / (4 * np.pi * epsilon)) * (q / r)\n",
    "\n",
    "# Create plot, add axis labels and a title\n",
    "plt.plot(r, V, label='Voltage')\n",
    "plt.xlabel('X/m')\n",
    "plt.ylabel('Voltage')\n",
    "plt.title('Graph of Electric Potential vs. Distance')\n",
    "plt.legend()\n",
    "plt.grid(True)\n",
    "\n",
    "plt.savefig(\"electric_potential_epsilon.png\")\n",
    "\n",
    "plt.show()"
   ]
  },
  {
   "cell_type": "markdown",
   "metadata": {},
   "source": [
    "**Write your explanation of the warning message here.**\n",
    "We cannot start at r = 0 since we can't divide by zero\n"
   ]
  }
 ],
 "metadata": {
  "kernelspec": {
   "display_name": "Python 3 (ipykernel)",
   "language": "python",
   "name": "python3"
  },
  "language_info": {
   "codemirror_mode": {
    "name": "ipython",
    "version": 3
   },
   "file_extension": ".py",
   "mimetype": "text/x-python",
   "name": "python",
   "nbconvert_exporter": "python",
   "pygments_lexer": "ipython3",
   "version": "3.12.4"
  }
 },
 "nbformat": 4,
 "nbformat_minor": 4
}
