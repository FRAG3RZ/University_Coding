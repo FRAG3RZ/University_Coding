{
 "cells": [
  {
   "cell_type": "code",
   "execution_count": 2,
   "metadata": {},
   "outputs": [],
   "source": [
    "# In Python it is standard practice to import the modules we need at the very top of our scripts\n",
    "import numpy as np\n",
    "import matplotlib.pyplot as plt\n",
    "from scipy import stats"
   ]
  },
  {
   "cell_type": "markdown",
   "metadata": {},
   "source": [
    "# 'For' loops\n",
    "\n",
    "Now that we will be processing larger numbers of datasets, we want to make sure we are not writing repetitive code. A `for` loop is great for automating things that we are going to do over and over again. Consider these examples, which you will find helpful for this (and later) exercises."
   ]
  },
  {
   "cell_type": "code",
   "execution_count": 3,
   "metadata": {},
   "outputs": [
    {
     "name": "stdout",
     "output_type": "stream",
     "text": [
      "We are about to loop over the following numbers:\n",
      "[0 1 2 3 4 5 6 7 8 9]\n",
      " We are now executing the code in the loop, with n = 0\n",
      " We are now executing the code in the loop, with n = 1\n",
      " We are now executing the code in the loop, with n = 2\n",
      " We are now executing the code in the loop, with n = 3\n",
      " We are now executing the code in the loop, with n = 4\n",
      " We are now executing the code in the loop, with n = 5\n",
      " We are now executing the code in the loop, with n = 6\n",
      " We are now executing the code in the loop, with n = 7\n",
      " We are now executing the code in the loop, with n = 8\n",
      " We are now executing the code in the loop, with n = 9\n",
      "The loop has finished executing\n"
     ]
    }
   ],
   "source": [
    "print('We are about to loop over the following numbers:')\n",
    "print(np.arange(10))\n",
    "for n in np.arange(10):\n",
    "    # The code that is indented here will be executed ten times.\n",
    "    # In each 'iteration' of the loop, the variable n will have a different value\n",
    "    print(' We are now executing the code in the loop, with n = {0}'.format(n))\n",
    "print('The loop has finished executing')"
   ]
  },
  {
   "cell_type": "code",
   "execution_count": 4,
   "metadata": {},
   "outputs": [
    {
     "name": "stdout",
     "output_type": "stream",
     "text": [
      "We are about to loop over the following numbers:\n",
      "[0.  0.2 0.4 0.6 0.8]\n",
      " We are now executing the code in the loop, with n = 0.0\n",
      " We are now executing the code in the loop, with n = 0.2\n",
      " We are now executing the code in the loop, with n = 0.4\n",
      " We are now executing the code in the loop, with n = 0.6\n",
      " We are now executing the code in the loop, with n = 0.8\n",
      "The loop has finished executing\n"
     ]
    }
   ],
   "source": [
    "print('We are about to loop over the following numbers:')\n",
    "print(np.arange(0, 1, 0.2))\n",
    "for n in np.arange(0, 1, 0.2):\n",
    "    print(' We are now executing the code in the loop, with n = {0:.1f}'.format(n))\n",
    "print('The loop has finished executing')"
   ]
  },
  {
   "cell_type": "code",
   "execution_count": 5,
   "metadata": {},
   "outputs": [
    {
     "name": "stdout",
     "output_type": "stream",
     "text": [
      "We are about to loop over the following strings:\n",
      "['file1.csv', 'file2.csv', 'file3.csv']\n",
      " We are now executing the code in the loop, with filename = file1.csv\n",
      " We are now executing the code in the loop, with filename = file2.csv\n",
      " We are now executing the code in the loop, with filename = file3.csv\n",
      "The loop has finished executing\n"
     ]
    }
   ],
   "source": [
    "# We can loop over a list of strings, as well as numbers\n",
    "# (remember this: it will be useful later!)\n",
    "print('We are about to loop over the following strings:')\n",
    "print(['file1.csv', 'file2.csv', 'file3.csv'])\n",
    "\n",
    "# Note that we have made a 'list' of strings by enclosing them in square brackets.\n",
    "for filename in ['file1.csv', 'file2.csv', 'file3.csv']:\n",
    "    print(' We are now executing the code in the loop, with filename = {0}'.format(filename))\n",
    "print('The loop has finished executing') "
   ]
  },
  {
   "cell_type": "markdown",
   "metadata": {},
   "source": [
    "# Exercise : 'For' loops (5 Marks)\n",
    "\n",
    "1) Load the data file `gaussian-data.csv`, which contains five datasets, each assumed to be a (small) set of normal (or Gaussian) distributed data. Print out the value of the variable `myArray.shape` (replace `myarray` with the name of your own variable) to see the actual shape of the array you loaded.\n",
    "\n",
    "2) Use a `for` loop to calculate and print the mean, standard deviation and standard error for each of the 5 sets of data in turn. <br>*Hint: you may find it helpful to use `myArray.shape` as part of your code for the `for` loop*.\n",
    "\n",
    "3) Are the 5 sets of data consistent with each other, in the statistical sense (add a comment in the Markdown cell)? Remember, consistent datasets are usually assumed to differ by no more than 3 standard deviations."
   ]
  },
  {
   "cell_type": "code",
   "execution_count": 25,
   "metadata": {},
   "outputs": [
    {
     "name": "stdout",
     "output_type": "stream",
     "text": [
      "Formatting of the data file:  (10, 5)\n",
      "For the dataset in column 1 the standard deviation is: 0.61, the mean is 22.11 and the standard error is: 0.19\n",
      "For the dataset in column 2 the standard deviation is: 0.87, the mean is 22.41 and the standard error is: 0.27\n",
      "For the dataset in column 3 the standard deviation is: 0.55, the mean is 21.83 and the standard error is: 0.17\n",
      "For the dataset in column 4 the standard deviation is: 0.27, the mean is 38.60 and the standard error is: 0.08\n",
      "For the dataset in column 5 the standard deviation is: 0.46, the mean is 21.84 and the standard error is: 0.15\n"
     ]
    }
   ],
   "source": [
    "import numpy as np\n",
    "\n",
    "#Importing the gaussian data into a variable\n",
    "gauss_data = np.loadtxt(\"gaussian-data.csv\", delimiter= \",\")\n",
    "\n",
    "#Checking the format of the file\n",
    "print(\"Formatting of the data file: \", gauss_data.shape)\n",
    "\n",
    "#Saving the formatting\n",
    "num_rows, num_cols = gauss_data.shape\n",
    "\n",
    "#For loop for calculating the desired values and printing them out in each iteration\n",
    "for column in range(num_cols):\n",
    "    sd = np.std(gauss_data[:, column]) #Standard deviation calc\n",
    "    sqrt_mean = np.mean(gauss_data[:, column]) #Mean calc\n",
    "    error = sd/np.sqrt(num_rows) #Standard error calc\n",
    "    print(\"For the dataset in column {0} the standard deviation is: {1:.2f}, the mean is {2:.2f} and the standard error is: {3:.2f}\".format(column+1, sd, sqrt_mean,error))\n",
    "\n",
    "\n"
   ]
  },
  {
   "cell_type": "markdown",
   "metadata": {},
   "source": [
    "**Are the datasets consistent with each other? Write your answer here**\n",
    "\n"
   ]
  },
  {
   "cell_type": "code",
   "execution_count": null,
   "metadata": {
    "collapsed": true,
    "jupyter": {
     "outputs_hidden": true
    }
   },
   "outputs": [],
   "source": [
    "Each dataset has its own different values"
   ]
  }
 ],
 "metadata": {
  "kernelspec": {
   "display_name": "Python 3 (ipykernel)",
   "language": "python",
   "name": "python3"
  },
  "language_info": {
   "codemirror_mode": {
    "name": "ipython",
    "version": 3
   },
   "file_extension": ".py",
   "mimetype": "text/x-python",
   "name": "python",
   "nbconvert_exporter": "python",
   "pygments_lexer": "ipython3",
   "version": "3.12.4"
  }
 },
 "nbformat": 4,
 "nbformat_minor": 4
}
