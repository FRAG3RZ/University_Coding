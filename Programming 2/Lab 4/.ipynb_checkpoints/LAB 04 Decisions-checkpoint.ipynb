{
 "cells": [
  {
   "cell_type": "code",
   "execution_count": null,
   "metadata": {},
   "outputs": [],
   "source": [
    "# We first import from a useful packages that will be required in this lab\n",
    "import numpy as np\n",
    "from random import seed\n",
    "from random import random"
   ]
  },
  {
   "cell_type": "markdown",
   "metadata": {},
   "source": [
    "# Decisions - if, elif, else\n",
    "\n",
    "Decisions are made using `if` statements, and we will get practice writing code to make decisions. But first we will get some practice at writing **functions** to make the decision code clearer by shuffling off complexity elsewhere in our code. We will also need something to make decisions about - and we will choose to do that in this lab by rolling computer dice. So we shall also do a little work on *pseudo-random number generation* to create some numbers we can make decisions upon. \n",
    "\n",
    "### Functions\n",
    "\n",
    "Functions contain lines of python code that can be called from anywhere else in the notebook. Functions accept *input parameters* and `return` a *result*.\n",
    "You have already explored many built-in examples of functions, e.g. the `np.sin()` function, which takes one input argument (an angle in radians) and returns one output argument (the sine of that angle). \n",
    "\n",
    "Each notebook can only see certain functions:\n",
    "\n",
    "1. functions core to Python, e.g. `print()`\n",
    "2. functions imported into the notebook, i.e. `import numpy as np` means the notebook can see all NumPy functions\n",
    "3. functions defined by you within the notebook itself.\n",
    "\n",
    "This means that if you define your own custom function in one notebook, a separate notebook will not know about that function (unless you also define it in the new notebook).\n",
    "\n",
    "The `total` function defined below, for example, is a simple Python function that calculates the sum of the elements of a 1D array:\n",
    "```python\n",
    "def total(x):  # def allows us to DEFine a new function called total that takes one input 'x'\n",
    "    # Everything that is indented here is a part of the function\n",
    "    ''' TOTAL - sum of all elements in 1D array x \n",
    "        This function works for row and column vectors of any length.\n",
    "        Here we have chosen the output argument to be s,\n",
    "        but you can change that to whatever you like.'''\n",
    "\n",
    "    s=0  # initialise our sum variable\n",
    "    for i in np.arange(x.size):\n",
    "        s = s + x[i]\n",
    "    return s  # return allows the user to get the value of s\n",
    "\n",
    "# The next lines are not inside the function (note that they are not indented),\n",
    "# so they cannot see anything from within the function\n",
    "myArray = np.random.rand(10,1)  # create a 10 item 1D array of random values\n",
    "myTotal = total(myArray)  # determine the total value using our custom function\n",
    "print(myTotal)  # print the result\n",
    "```\n",
    "\n",
    "Note the use of a multi-line comment (surrounded in triple quotes) that gives a description of what the function does.\n",
    "Without such useful comments my colleague may not understand the function, or worse - I might forget when I come back to the codes in a year's time.\n",
    "\n",
    "Try predicting the results from the following function examples, before running the Python code.\n"
   ]
  },
  {
   "cell_type": "code",
   "execution_count": null,
   "metadata": {},
   "outputs": [],
   "source": [
    "def catYears(human_years):\n",
    "    '''Calculate cat years from human years.'''\n",
    "    y = human_years / 7.0\n",
    "    rounded = int(y+0.5)\n",
    "    return rounded\n",
    "\n",
    "def sumOfSquares(a,b):\n",
    "    '''Must have a use somewhere.'''\n",
    "    return a*a + b*b\n",
    "\n",
    "def p(years, c, animal):\n",
    "    '''Just output, no more than that'''\n",
    "    print(\"If I were a {}, I'd be \".format(animal))\n",
    "    print(\"{} years old.\".format(years))\n",
    "    print(\"The sum of squares \")\n",
    "    print(\"was {} units.\".format(c));\n",
    "\n",
    "my_age = 18    # set up some variables\n",
    "x = 3.3\n",
    "animal = \"cat\"\n",
    "\n",
    "years_a = catYears(my_age)    # and then use them in functions\n",
    "sum = sumOfSquares(x,7.4)\n",
    "p(years_a, sum, animal)"
   ]
  },
  {
   "cell_type": "markdown",
   "metadata": {},
   "source": [
    "### Random number generation\n",
    "\n",
    "The `random` library includes useful functions dealing with pseudorandom numbers. \n",
    "When people write **random number** with regards to computers, they really mean **pseudorandom number**. The basic problem is that if you start from a single value (known as the *random seed*), and do a series of mathematical operations on it, you will not get an actual random number -- every time you start from the same random seed, you will get the same number!\n",
    "\n",
    "To quote one of the giants in computer science,\n",
    "\n",
    "> Anyone who attempts to generate random numbers by deterministic means is, of course, living in a state of sin. - John von Neumann\n",
    "\n",
    "However, pseudorandom numbers are actually really useful. They have many of the properties of real random numbers, but if you choose the same sequence each time, debugging your code can be a lot easier. \n",
    "\n",
    "Try the code below, changing the seed, to see how this works."
   ]
  },
  {
   "cell_type": "code",
   "execution_count": null,
   "metadata": {},
   "outputs": [],
   "source": [
    "from datetime import datetime\n",
    "from random import seed\n",
    "from random import random\n",
    "\n",
    "seed(1)          # set up the random number generator \n",
    "print(random())  # print random number between 0 (inclusive) and 1.0 (exclusive) \n",
    "# try the number datetime.now() if you want an unrepeatable sequence"
   ]
  },
  {
   "cell_type": "markdown",
   "metadata": {},
   "source": [
    "# Exercise : Writing your own Functions\n",
    "\n",
    "Create a *die rolling* game. You are probably familiar with 6-sided dice, but some games use dice with 4, 6, 8, 10, 20, and 100 sides. You will make the computer pick a random number for a 6-sided die and a 20-sided die.\n",
    "\n",
    "Write a `rollDie(...)` function to get a random value. The function should have one integer argument for the value of the die `(number_of_sides)`. Use the `random()` function (*yes, you will be writing a function that calls another function*) to get a float between 0 and 0.999...) and do some maths to transform that into an integer between 1 and `number_of_sides` inclusive)\n",
    "\n",
    "Your main program should be be the following\n",
    "```python\n",
    "value = rollDie(6)\n",
    "print(\"6-sided die: {}\".format(value))\n",
    "value = rollDie(20)\n",
    "print(\"20-sided die: {}\".format(value))```"
   ]
  },
  {
   "cell_type": "code",
   "execution_count": null,
   "metadata": {},
   "outputs": [],
   "source": [
    "# Die Rolling Game\n",
    "\n",
    "# libraryimports set up in the cells above\n",
    "# student defined function in here\n",
    "\n",
    "\n",
    "\n",
    "value = rollDie(6)\n",
    "print(\"6-sided die: {}\".format(value))\n",
    "value = rollDie(20)\n",
    "print(\"20-sided die: {}\".format(value))"
   ]
  },
  {
   "cell_type": "markdown",
   "metadata": {},
   "source": [
    "## Decision Blocks\n",
    "\n",
    "The logic of an `if <expression>:` statement is fairly simple. If the expression is true, an indented code statement is run. Closely relared commands are `if <expression>: ... else:`, and `if <expression>: ... elif <expression: ... else:` which act precisely as you would expect.\n",
    "\n",
    "Note that `=` and `==` mena different things in Python. The former may be read as *becomes equal to* and indicates variable assignment. The latter is *is equal to* and is a logical expression returning `True` if the two numbers are equal.\n",
    "\n",
    "The logical operators `not`, `and` and `or` are particularly useful with `if`. Parentheses () are highly encouraged when using logical operators.\n",
    "\n",
    "# Exercise - a simple guessing game (5 marks)\n",
    "\n",
    "Create a **guessing game** program. Your program should:\n",
    "\n",
    "* Make the computer pick a random number to be the answer. It should be an integer between 1 and 32 (inclusive). You may use the function that you worte previously.\n",
    "* Write a function for the user's guess. This function must:\n",
    "    * have one integer argument (correct_answer),\n",
    "    * read an integer from the keyboard,\n",
    "    * check the entered number against the correct answer,\n",
    "    * output the appropriate message (\"correct\" / \"too high\" / \"too low\"),\n",
    "    * return a `True` if the user's guess was correct, and `False` if the user's guess was wrong.\n",
    "    \n",
    "* Give the user 5 chances to guess the right answer. (hint: you will write a function that checks a guess. What happens if you copy and paste that function call 5 times?)\n",
    "* End the game if the user is correct, or if s/he's used up all 5 chances. Print either a \"you win\" or \"you lose\", as appropriate.\n",
    "* You may not use any loops for this program !"
   ]
  },
  {
   "cell_type": "code",
   "execution_count": null,
   "metadata": {},
   "outputs": [],
   "source": [
    "# Write your code here\n",
    "\n"
   ]
  }
 ],
 "metadata": {
  "kernelspec": {
   "display_name": "Python 3",
   "language": "python",
   "name": "python3"
  },
  "language_info": {
   "codemirror_mode": {
    "name": "ipython",
    "version": 3
   },
   "file_extension": ".py",
   "mimetype": "text/x-python",
   "name": "python",
   "nbconvert_exporter": "python",
   "pygments_lexer": "ipython3",
   "version": "3.7.3"
  }
 },
 "nbformat": 4,
 "nbformat_minor": 2
}
