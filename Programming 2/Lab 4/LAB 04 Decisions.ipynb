{
 "cells": [
  {
   "cell_type": "code",
   "execution_count": null,
   "metadata": {},
   "outputs": [],
   "source": [
    "# We first import from a useful packages that will be required in this lab\n",
    "import numpy as np\n",
    "from random import seed\n",
    "from random import random"
   ]
  },
  {
   "cell_type": "markdown",
   "metadata": {},
   "source": [
    "# Decisions - if, elif, else\n",
    "\n",
    "Decisions are made using `if` statements, and we will get practice writing code to make decisions. But first we will get some practice at writing **functions** to make the decision code clearer by shuffling off complexity elsewhere in our code. We will also need something to make decisions about - and we will choose to do that in this lab by rolling computer dice. So we shall also do a little work on *pseudo-random number generation* to create some numbers we can make decisions upon. \n",
    "\n",
    "### Functions\n",
    "\n",
    "Functions contain lines of python code that can be called from anywhere else in the notebook. Functions accept *input parameters* and `return` a *result*.\n",
    "You have already explored many built-in examples of functions, e.g. the `np.sin()` function, which takes one input argument (an angle in radians) and returns one output argument (the sine of that angle). \n",
    "\n",
    "Each notebook can only see certain functions:\n",
    "\n",
    "1. functions core to Python, e.g. `print()`\n",
    "2. functions imported into the notebook, i.e. `import numpy as np` means the notebook can see all NumPy functions\n",
    "3. functions defined by you within the notebook itself.\n",
    "\n",
    "This means that if you define your own custom function in one notebook, a separate notebook will not know about that function (unless you also define it in the new notebook).\n",
    "\n",
    "The `total` function defined below, for example, is a simple Python function that calculates the sum of the elements of a 1D array:\n",
    "```python\n",
    "def total(x):  # def allows us to DEFine a new function called total that takes one input 'x'\n",
    "    # Everything that is indented here is a part of the function\n",
    "    ''' TOTAL - sum of all elements in 1D array x \n",
    "        This function works for row and column vectors of any length.\n",
    "        Here we have chosen the output argument to be s,\n",
    "        but you can change that to whatever you like.'''\n",
    "\n",
    "    s=0  # initialise our sum variable\n",
    "    for i in np.arange(x.size):\n",
    "        s = s + x[i]\n",
    "    return s  # return allows the user to get the value of s\n",
    "\n",
    "# The next lines are not inside the function (note that they are not indented),\n",
    "# so they cannot see anything from within the function\n",
    "myArray = np.random.rand(10,1)  # create a 10 item 1D array of random values\n",
    "myTotal = total(myArray)  # determine the total value using our custom function\n",
    "print(myTotal)  # print the result\n",
    "```\n",
    "\n",
    "Note the use of a multi-line comment (surrounded in triple quotes) that gives a description of what the function does.\n",
    "Without such useful comments my colleague may not understand the function, or worse - I might forget when I come back to the codes in a year's time.\n",
    "\n",
    "Try predicting the results from the following function examples, before running the Python code.\n"
   ]
  },
  {
   "cell_type": "code",
   "execution_count": null,
   "metadata": {},
   "outputs": [],
   "source": [
    "def catYears(human_years):\n",
    "    '''Calculate cat years from human years.'''\n",
    "    y = human_years / 7.0\n",
    "    rounded = int(y+0.5)\n",
    "    return rounded\n",
    "\n",
    "def sumOfSquares(a,b):\n",
    "    '''Must have a use somewhere.'''\n",
    "    return a*a + b*b\n",
    "\n",
    "def p(years, c, animal):\n",
    "    '''Just output, no more than that'''\n",
    "    print(\"If I were a {}, I'd be \".format(animal))\n",
    "    print(\"{} years old.\".format(years))\n",
    "    print(\"The sum of squares \")\n",
    "    print(\"was {} units.\".format(c));\n",
    "\n",
    "my_age = 18    # set up some variables\n",
    "x = 3.3\n",
    "animal = \"cat\"\n",
    "\n",
    "years_a = catYears(my_age)    # and then use them in functions\n",
    "sum = sumOfSquares(x,7.4)\n",
    "p(years_a, sum, animal)"
   ]
  },
  {
   "cell_type": "markdown",
   "metadata": {},
   "source": [
    "### Random number generation\n",
    "\n",
    "The `random` library includes useful functions dealing with pseudorandom numbers. \n",
    "When people write **random number** with regards to computers, they really mean **pseudorandom number**. The basic problem is that if you start from a single value (known as the *random seed*), and do a series of mathematical operations on it, you will not get an actual random number -- every time you start from the same random seed, you will get the same number!\n",
    "\n",
    "To quote one of the giants in computer science,\n",
    "\n",
    "> Anyone who attempts to generate random numbers by deterministic means is, of course, living in a state of sin. - John von Neumann\n",
    "\n",
    "However, pseudorandom numbers are actually really useful. They have many of the properties of real random numbers, but if you choose the same sequence each time, debugging your code can be a lot easier. \n",
    "\n",
    "Try the code below, changing the seed, to see how this works."
   ]
  },
  {
   "cell_type": "code",
   "execution_count": null,
   "metadata": {},
   "outputs": [],
   "source": [
    "from datetime import datetime\n",
    "from random import seed\n",
    "from random import random\n",
    "\n",
    "seed(1)          # set up the random number generator \n",
    "print(random())  # print random number between 0 (inclusive) and 1.0 (exclusive) \n",
    "# try the number datetime.now() if you want an unrepeatable sequence"
   ]
  },
  {
   "cell_type": "markdown",
   "metadata": {},
   "source": [
    "# Exercise : Writing your own Functions\n",
    "\n",
    "Create a *die rolling* game. You are probably familiar with 6-sided dice, but some games use dice with 4, 6, 8, 10, 20, and 100 sides. You will make the computer pick a random number for a 6-sided die and a 20-sided die.\n",
    "\n",
    "Write a `rollDie(...)` function to get a random value. The function should have one integer argument for the value of the die `(number_of_sides)`. Use the `random()` function (*yes, you will be writing a function that calls another function*) to get a float between 0 and 0.999...) and do some maths to transform that into an integer between 1 and `number_of_sides` inclusive)\n",
    "\n",
    "Your main program should be be the following\n",
    "```python\n",
    "value = rollDie(6)\n",
    "print(\"6-sided die: {}\".format(value))\n",
    "value = rollDie(20)\n",
    "print(\"20-sided die: {}\".format(value))```"
   ]
  },
  {
   "cell_type": "code",
   "execution_count": 118,
   "metadata": {},
   "outputs": [
    {
     "name": "stdout",
     "output_type": "stream",
     "text": [
      "6-sided die: 4\n",
      "20-sided die: 9\n"
     ]
    }
   ],
   "source": [
    "# Die Rolling Game\n",
    "\n",
    "from datetime import datetime\n",
    "from random import seed\n",
    "from random import random\n",
    "\n",
    "# student defined function in here\n",
    "def rollDie(x):\n",
    "    seed(random())\n",
    "    result = int(random()*x)\n",
    "    if(result == 0):\n",
    "        return 1;\n",
    "    else:\n",
    "        return result\n",
    "    \n",
    "\n",
    "\n",
    "value = rollDie(6)\n",
    "print(\"6-sided die: {}\".format(value))\n",
    "value = rollDie(20)\n",
    "print(\"20-sided die: {}\".format(value))"
   ]
  },
  {
   "cell_type": "code",
   "execution_count": null,
   "metadata": {},
   "outputs": [],
   "source": []
  },
  {
   "cell_type": "markdown",
   "metadata": {},
   "source": [
    "## Decision Blocks\n",
    "\n",
    "The logic of an `if <expression>:` statement is fairly simple. If the expression is true, an indented code statement is run. Closely relared commands are `if <expression>: ... else:`, and `if <expression>: ... elif <expression: ... else:` which act precisely as you would expect.\n",
    "\n",
    "Note that `=` and `==` mena different things in Python. The former may be read as *becomes equal to* and indicates variable assignment. The latter is *is equal to* and is a logical expression returning `True` if the two numbers are equal.\n",
    "\n",
    "The logical operators `not`, `and` and `or` are particularly useful with `if`. Parentheses () are highly encouraged when using logical operators.\n",
    "\n",
    "# Exercise - a simple guessing game (5 marks)\n",
    "\n",
    "Create a **guessing game** program. Your program should:\n",
    "\n",
    "* Make the computer pick a random number to be the answer. It should be an integer between 1 and 32 (inclusive). You may use the function that you worte previously.\n",
    "* Write a function for the user's guess. This function must:\n",
    "    * have one integer argument (correct_answer),\n",
    "    * read an integer from the keyboard,\n",
    "    * check the entered number against the correct answer,\n",
    "    * output the appropriate message (\"correct\" / \"too high\" / \"too low\"),\n",
    "    * return a `True` if the user's guess was correct, and `False` if the user's guess was wrong.\n",
    "    \n",
    "* Give the user 5 chances to guess the right answer. (hint: you will write a function that checks a guess. What happens if you copy and paste that function call 5 times?)\n",
    "* End the game if the user is correct, or if s/he's used up all 5 chances. Print either a \"you win\" or \"you lose\", as appropriate.\n",
    "* You may not use any loops for this program !"
   ]
  },
  {
   "cell_type": "code",
   "execution_count": 8,
   "metadata": {},
   "outputs": [
    {
     "name": "stdout",
     "output_type": "stream",
     "text": [
      "15\n",
      "You have 5 more guesses\n"
     ]
    },
    {
     "name": "stdin",
     "output_type": "stream",
     "text": [
      " 15.3\n"
     ]
    },
    {
     "ename": "ValueError",
     "evalue": "invalid literal for int() with base 10: '15.3'",
     "output_type": "error",
     "traceback": [
      "\u001b[0;31m---------------------------------------------------------------------------\u001b[0m",
      "\u001b[0;31mValueError\u001b[0m                                Traceback (most recent call last)",
      "Cell \u001b[0;32mIn[8], line 40\u001b[0m\n\u001b[1;32m     37\u001b[0m         \u001b[38;5;28mprint\u001b[39m(\u001b[38;5;124m\"\u001b[39m\u001b[38;5;124mApologies, no more guesses. You lose!\u001b[39m\u001b[38;5;124m\"\u001b[39m) \u001b[38;5;66;03m#Ends the game if number of guesses is 0\u001b[39;00m\n\u001b[1;32m     38\u001b[0m         \u001b[38;5;28;01mreturn\u001b[39;00m \u001b[38;5;28;01mFalse\u001b[39;00m\n\u001b[0;32m---> 40\u001b[0m guessingGame()\n",
      "Cell \u001b[0;32mIn[8], line 24\u001b[0m, in \u001b[0;36mguessingGame\u001b[0;34m()\u001b[0m\n\u001b[1;32m     22\u001b[0m \u001b[38;5;28;01mif\u001b[39;00m(number_of_guesses \u001b[38;5;241m!=\u001b[39m \u001b[38;5;241m0\u001b[39m): \u001b[38;5;66;03m#Keep going if there are more guesses\u001b[39;00m\n\u001b[1;32m     23\u001b[0m     \u001b[38;5;28mprint\u001b[39m(\u001b[38;5;124m\"\u001b[39m\u001b[38;5;124mYou have \u001b[39m\u001b[38;5;132;01m{0}\u001b[39;00m\u001b[38;5;124m more guesses\u001b[39m\u001b[38;5;124m\"\u001b[39m\u001b[38;5;241m.\u001b[39mformat(number_of_guesses))\n\u001b[0;32m---> 24\u001b[0m     user_guess \u001b[38;5;241m=\u001b[39m \u001b[38;5;28mint\u001b[39m(\u001b[38;5;28minput\u001b[39m()) \u001b[38;5;66;03m#Read from user and cast into integer\u001b[39;00m\n\u001b[1;32m     25\u001b[0m     \u001b[38;5;28;01mif\u001b[39;00m(user_guess \u001b[38;5;241m==\u001b[39m correct_number): \u001b[38;5;66;03m#Logic for checking the user input against the corect number\u001b[39;00m\n\u001b[1;32m     26\u001b[0m         \u001b[38;5;28mprint\u001b[39m(\u001b[38;5;124m\"\u001b[39m\u001b[38;5;124mCorrect! You win!\u001b[39m\u001b[38;5;124m\"\u001b[39m)\n",
      "\u001b[0;31mValueError\u001b[0m: invalid literal for int() with base 10: '15.3'"
     ]
    }
   ],
   "source": [
    "#Yay importing\n",
    "from datetime import datetime\n",
    "from random import seed\n",
    "from random import random\n",
    "\n",
    "#Defining the function to generate an integer from 1-32\n",
    "def randomNumber1_32():\n",
    "    seed(random())\n",
    "    result = int(random()*32) #Generate the number between 1 and 32\n",
    "    print(result)\n",
    "    if(result == 0): #Logic to make sure the result isn't zero\n",
    "        return 1;\n",
    "    else:\n",
    "        return result\n",
    "\n",
    "#Establish the number of guesses and the correct number using the function above\n",
    "number_of_guesses = 5;\n",
    "correct_number = randomNumber1_32()\n",
    "\n",
    "def guessingGame():\n",
    "    global number_of_guesses #Make sure the function uses the above established integer\n",
    "    if(number_of_guesses != 0): #Keep going if there are more guesses\n",
    "        print(\"You have {0} more guesses\".format(number_of_guesses))\n",
    "        user_guess = int(input()) #Read from user and cast into integer\n",
    "        if(user_guess == correct_number): #Logic for checking the user input against the corect number\n",
    "            print(\"Correct! You win!\")\n",
    "            return True\n",
    "        elif(user_guess > correct_number): \n",
    "            print(\"Lower\")\n",
    "            number_of_guesses-=1;\n",
    "            guessingGame()\n",
    "        else:\n",
    "            print(\"Higher\")\n",
    "            number_of_guesses-=1;\n",
    "            guessingGame()\n",
    "    else:\n",
    "        print(\"Apologies, no more guesses. You lose!\") #Ends the game if number of guesses is 0\n",
    "        return False\n",
    "    \n",
    "guessingGame()\n"
   ]
  },
  {
   "cell_type": "code",
   "execution_count": null,
   "metadata": {},
   "outputs": [],
   "source": [
    "5\n",
    "5\n",
    "5\n",
    "5\n",
    "5\n",
    "5\n",
    "5\n"
   ]
  }
 ],
 "metadata": {
  "kernelspec": {
   "display_name": "Python 3 (ipykernel)",
   "language": "python",
   "name": "python3"
  },
  "language_info": {
   "codemirror_mode": {
    "name": "ipython",
    "version": 3
   },
   "file_extension": ".py",
   "mimetype": "text/x-python",
   "name": "python",
   "nbconvert_exporter": "python",
   "pygments_lexer": "ipython3",
   "version": "3.12.4"
  }
 },
 "nbformat": 4,
 "nbformat_minor": 4
}
