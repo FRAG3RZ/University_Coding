{
 "cells": [
  {
   "cell_type": "code",
   "execution_count": null,
   "metadata": {},
   "outputs": [],
   "source": [
    "# We first import from a useful packages that will be required in this lab\n",
    "import numpy as np\n",
    "from random import seed\n",
    "from random import random"
   ]
  },
  {
   "cell_type": "markdown",
   "metadata": {},
   "source": [
    "# Loops - while (and for)\n",
    "\n",
    "Loops tell the computer how to iterate over a problem, or carry out the same procedure a number of times. They are pretty much the reason why computers were invented. An example from the lectures:\n",
    "\n",
    "```Python\n",
    "d, sum = 2, 1    # scanner and accumulator\n",
    "n = int(input(\"number to be tested\"))\n",
    "\n",
    "while (d <= (n/2)):   # bit of a lazy sentinel !\n",
    "    if (n%d==0):      # I could have worked out\n",
    "        sum += d      # how high to count\n",
    "    d+=1\n",
    "\n",
    "if (sum==n): \n",
    "    print(\"number {} is perfect\".format(n))\n",
    "else:\n",
    "    print(\"number {} is not perfect\".format(n))```\n",
    "\n",
    "\n",
    "Now that you are geting to be a more experienced programmer, you can start to build more practical code. We will use the simple guessing game of the last lab, and improve upon it. However that improvement will require several nested loops. Be sure to use helper functions whenever necessary, so that you can still see the logical structure of the top level of your code clearly. Spaghetti code rapidly turns into somehting impossible to debug, even with the best of development tools. \n",
    "\n",
    "# Exercise - a more practical guessing game (5 marks)\n",
    "\n",
    "Modify your guessing game from the previous lab (making a copy of your notebook is probably wise):\n",
    "\n",
    "* Instead of giving the user X chances, keep on offering guesses until the user is correct.\n",
    "* Keep track of the number of guesses, and tell the player how many guesses they took each game.\n",
    "* After the first game is finished, start a new game with a different answer to guess. Keep track of the number of guesses the player needed to win.\n",
    "* After the second (and later) games are finished, tell the player their score (number of guesses) and the best score (the fewest number of guesses). If the player's score is better, store it as the best score.\n",
    "* Keep on repeating until the player wins with 4 or fewer guesses. (or until the player hits ctrl-c/abort)\n",
    "\n",
    "Since you neve know how long a user will take to complete each game, or how many games they will play, `while` loops will almost certainly be used in this code."
   ]
  },
  {
   "cell_type": "code",
   "execution_count": null,
   "metadata": {},
   "outputs": [],
   "source": [
    "# Practical Guessing Game - write your code here\n",
    "\n",
    "from random import seed\n",
    "from random import random\n",
    "# libraryimports set up random number generation\n",
    "\n"
   ]
  },
  {
   "cell_type": "markdown",
   "metadata": {},
   "source": [
    "## For loops and ranges\n",
    "\n",
    "`For` loops (looping across ranges) is ubiquitous in computer programming. You have already used for loops to scan across data sets in files of experimental data. Now you will get more practice at writing loops as a warm up to using them in Classes. \n",
    "\n",
    "Recall that code such as this :\n",
    "```Python\n",
    "for number in range(10):\n",
    "    print(\"-\", end=\"\")```\n",
    "    \n",
    "will print ten dashes, without printing a newline character (so the typing point will just be sitting at the end of the line!"
   ]
  },
  {
   "cell_type": "markdown",
   "metadata": {},
   "source": [
    "# Exercise : combining loops and functions\n",
    "\n",
    "Back in the good old days, there were no fancy graphics in computer games; we used text to represent everything. Your task is to draw a room from a family of games called Roguelikes -- where the player (represented by the @ symbol) must explore a dungeon. \n",
    "\n",
    "    2x2 room, player at 0,1:\n",
    "    +--+\n",
    "    |..|\n",
    "    |@.|\n",
    "    +--+\n",
    "\n",
    "    5x3 room, player at 1,2:\n",
    "    +-----+\n",
    "    |.....|\n",
    "    |.....|\n",
    "    |.@...|\n",
    "    +-----+\n",
    "\n",
    "    14x8 room, player at 8,5:\n",
    "    +--------------+\n",
    "    |..............|\n",
    "    |..............|\n",
    "    |..............|\n",
    "    |..............|\n",
    "    |..............|\n",
    "    |........@.....|\n",
    "    |..............|\n",
    "    |..............|\n",
    "    +--------------+\n",
    "\n",
    "Your initial task is to write a function (with extra *helper* functions) to draw rooms such as those above. How big are the rooms? What is the coordinate system?\n",
    "\n",
    "* Your initial main programe must only contain :\n",
    "```Python\n",
    "drawRoom(2,2,0,1)\n",
    "drawRoom(5,3,1,2)\n",
    "drawRoom(14,8,8,5)```\n",
    "\n",
    "* In addition to drawRoom(), write three extra functions. The first should draw a horizontal +----+ line, the second should draw a line without the player |....|, and the third the line with the player |..@.|. The drawRoom function should call those other helper functions when appropriate. \n",
    "* Use only for loops. You may not use `if` or `while` in this exercise - I know that you've used for loops once before, but they are so important that additional practice is valuable.\n",
    "* Test this code well, for we will be using it in a more subtle fashion next time."
   ]
  },
  {
   "cell_type": "code",
   "execution_count": null,
   "metadata": {},
   "outputs": [],
   "source": [
    "# Rogue room creation - write your code here\n",
    "\n",
    "\n",
    "drawRoom(2,2,0,1)\n",
    "drawRoom(5,3,1,2)\n",
    "drawRoom(14,8,8,5)"
   ]
  }
 ],
 "metadata": {
  "kernelspec": {
   "display_name": "Python 3",
   "language": "python",
   "name": "python3"
  },
  "language_info": {
   "codemirror_mode": {
    "name": "ipython",
    "version": 3
   },
   "file_extension": ".py",
   "mimetype": "text/x-python",
   "name": "python",
   "nbconvert_exporter": "python",
   "pygments_lexer": "ipython3",
   "version": "3.7.3"
  }
 },
 "nbformat": 4,
 "nbformat_minor": 2
}
